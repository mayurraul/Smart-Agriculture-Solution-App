{
 "cells": [
  {
   "cell_type": "code",
   "execution_count": 82,
   "metadata": {},
   "outputs": [
    {
     "name": "stdout",
     "output_type": "stream",
     "text": [
      "   temperature   humidity        ph    rainfall label\n",
      "0    20.879744  82.002744  6.502985  202.935536  rice\n",
      "The data present in one row of the dataset is\n",
      "   temperature   humidity        ph    rainfall  Black gram  Chickpea  \\\n",
      "0    20.879744  82.002744  6.502985  202.935536           0         0   \n",
      "\n",
      "   Coconut  Coffee  Cotton  Ground Nut  ...  maize  mango  millet  muskmelon  \\\n",
      "0        0       0       0           0  ...      0      0       0          0   \n",
      "\n",
      "   orange  papaya  pomegranate  rice  watermelon  wheat  \n",
      "0       0       0            0     1           0      0  \n",
      "\n",
      "[1 rows x 34 columns]\n",
      "The accuracy of this model is:  89.6774193548387\n"
     ]
    }
   ],
   "source": [
    "#importing the required libraries\n",
    "import pandas as pd\n",
    "import numpy as np\n",
    "from sklearn.model_selection import train_test_split\n",
    "\n",
    "#Reading the csv file\n",
    "path_to_csv = r\"C:\\Users\\Aditya\\Documents\\WC\\cpdata.csv\"\n",
    "data=pd.read_csv(path_to_csv)\n",
    "print(data.head(1))\n",
    "\n",
    "#Creating dummy variable for target i.e label\n",
    "label= pd.get_dummies(data.label).iloc[: , 1:]\n",
    "data= pd.concat([data,label],axis=1)\n",
    "data.drop('label', axis=1,inplace=True)\n",
    "print('The data present in one row of the dataset is')\n",
    "print(data.head(1))\n",
    "train=data.iloc[:, 0:4].values\n",
    "test=data.iloc[: ,4:].values\n",
    "\n",
    "#Dividing the data into training and test set\n",
    "X_train,X_test,y_train,y_test=train_test_split(train,test,test_size=0.3)\n",
    "\n",
    "from sklearn.preprocessing import StandardScaler\n",
    "sc = StandardScaler()\n",
    "X_train = sc.fit_transform(X_train)\n",
    "X_test = sc.transform(X_test)\n",
    "\n",
    "#Importing Decision Tree classifier\n",
    "from sklearn.tree import DecisionTreeRegressor\n",
    "clf=DecisionTreeRegressor()\n",
    "\n",
    "#Fitting the classifier into training set\n",
    "clf.fit(X_train,y_train)\n",
    "pred=clf.predict(X_test)\n",
    "\n",
    "from sklearn.metrics import accuracy_score\n",
    "# Finding the accuracy of the model\n",
    "a=accuracy_score(y_test,pred)\n",
    "print(\"The accuracy of this model is: \", a*100)"
   ]
  },
  {
   "cell_type": "code",
   "execution_count": 75,
   "metadata": {},
   "outputs": [],
   "source": [
    "from firebase import firebase\n",
    "firebase = firebase.FirebaseApplication('https://agent-name-2ec89.firebaseio.com/')"
   ]
  },
  {
   "cell_type": "code",
   "execution_count": 76,
   "metadata": {},
   "outputs": [
    {
     "name": "stdout",
     "output_type": "stream",
     "text": [
      "{'Humidity': 69, 'Rainfall': 88, 'Temperature': 18, 'pH': 6}\n",
      "The predicted crop is mango\n"
     ]
    }
   ],
   "source": [
    "realtime_data = firebase.get('/crop 2/Realtime',None)\n",
    "print(realtime_data)\n",
    "\n",
    "ah = realtime_data['Humidity']\n",
    "atemp = realtime_data['Temperature']\n",
    "pH = realtime_data['pH']\n",
    "rain = realtime_data['Rainfall']\n",
    "\n",
    "l=[]\n",
    "l.append(ah)\n",
    "l.append(atemp)\n",
    "l.append(pH)\n",
    "l.append(rain)\n",
    "predictcrop=[l]\n",
    "\n",
    "crops=['wheat','mungbean','Tea','millet','maize','lentil','jute','cofee','cotton','ground nut','peas','rubber','sugarcane','tobacco','kidney beans','moth beans','coconut','blackgram','adzuki beans','pigeon peas','chick peas','banana','grapes','apple','mango','muskmelon','orange','papaya','watermelon','pomegranate']\n",
    "#crops=['wheat','mungbean','Tea','millet','maize','lentil','jute','cofee','cotton','ground nut','peas','rubber','sugarcane','tobacco','kidney beans','moth beans','coconut','blackgram','adzuki beans','pigeon peas','chick peas','banana','grapes','apple','muskmelon','orange','papaya','watermelon','pomegranate']\n",
    "\n",
    "cr='rice'\n",
    "\n",
    "#Predicting the crop\n",
    "predictions = clf.predict(predictcrop)\n",
    "count=0\n",
    "for i in range(0,30):\n",
    "    if(predictions[0][i]==1):\n",
    "        c=crops[i]\n",
    "        count=count+1\n",
    "        break;\n",
    "    i=i+1\n",
    "if(count==0):\n",
    "    print('The predicted crop is %s'%cr)\n",
    "else:\n",
    "    print('The predicted crop is %s'%c)"
   ]
  },
  {
   "cell_type": "code",
   "execution_count": 86,
   "metadata": {},
   "outputs": [],
   "source": [
    "database = ['/crop 1', '/crop 2', '/crop 3']\n",
    "for i in range(len(database)):\n",
    "    cp=firebase.put(database[i],'Predicted Crop',c)"
   ]
  },
  {
   "cell_type": "code",
   "execution_count": null,
   "metadata": {},
   "outputs": [],
   "source": []
  }
 ],
 "metadata": {
  "kernelspec": {
   "display_name": "Python 3",
   "language": "python",
   "name": "python3"
  },
  "language_info": {
   "codemirror_mode": {
    "name": "ipython",
    "version": 3
   },
   "file_extension": ".py",
   "mimetype": "text/x-python",
   "name": "python",
   "nbconvert_exporter": "python",
   "pygments_lexer": "ipython3",
   "version": "3.6.10"
  }
 },
 "nbformat": 4,
 "nbformat_minor": 2
}
